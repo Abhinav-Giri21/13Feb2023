{
 "cells": [
  {
   "cell_type": "code",
   "execution_count": null,
   "id": "d038ceeb-c304-479c-a41b-be1e03543a57",
   "metadata": {},
   "outputs": [],
   "source": [
    "'''Q1. Explain why we have to use the Exception class while creating a Custom Exception.\n",
    "Note: Here Exception class refers to the base class for all the exceptions.\n",
    "\n",
    "Ans.Inheriting from the Exception class allows custom exceptions to exhibit similar behavior to the built-in exceptions. This includes being able to\n",
    "propagate up the call stack, being caught by specific exception handlers,and providing useful information such as error messages and stack traces.'''"
   ]
  },
  {
   "cell_type": "code",
   "execution_count": null,
   "id": "34c3d92a-f98d-494d-9b29-523ed1ad7c06",
   "metadata": {},
   "outputs": [],
   "source": [
    "'''Q2. Write a python program to print Python Exception Hierarchy.'''\n",
    "\n",
    "import sys\n",
    "\n",
    "def print_exception_hierarchy(exception_class, indent=''):\n",
    "    print(indent + exception_class.__name__)\n",
    "    for subclass in exception_class.__subclasses__():\n",
    "        print_exception_hierarchy(subclass, indent + '  ')\n",
    "\n",
    "print_exception_hierarchy(BaseException)\n"
   ]
  },
  {
   "cell_type": "code",
   "execution_count": null,
   "id": "04468aef-6a4d-4311-aaeb-d35c8f77bf7f",
   "metadata": {},
   "outputs": [],
   "source": [
    "'''Q3. What errors are defined in the ArithmeticError class? Explain any two with an example.\n",
    "Ans.The ArithmeticError class in Python is a base class for exceptions that occur during arithmetic operations. \n",
    "Some errors defined in the ArithmeticError class include:\n",
    "\n",
    "ZeroDivisionError: Raised when attempting to divide by zero.\n",
    "OverflowError: Raised when the result of an arithmetic operation is too large to be represented.'''\n",
    "\n",
    "try:\n",
    "    a=5\n",
    "    b=0\n",
    "    print(a/b)\n",
    "except:\n",
    "    print(\"Error Occured\")\n",
    "\n",
    "import sys\n",
    "try:\n",
    "    result=sys.maxsize**1000\n",
    "    print(\"Result:\", result)\n",
    "except OverflowError:\n",
    "    print(\"Overflow error occurred!\")\n"
   ]
  },
  {
   "cell_type": "code",
   "execution_count": null,
   "id": "f8b78c0e-957e-449e-834b-d761a9fba7a4",
   "metadata": {},
   "outputs": [],
   "source": [
    "'''Q4. Why LookupError class is used? Explain with an example KeyError and IndexError.\n",
    "Ans.The LookupError class in Python is a base class for exceptions that occur when a key or index is not found. It is used to handle errors \n",
    "related to lookup operations such as accessing elements in sequences or dictionaries. \n",
    "Two examples of exceptions derived from the LookupError class are KeyError and IndexError.\n",
    "KeyError is raised when trying to access a dictionary key that doesn't exist,and IndexError is raised when trying to access an index'''"
   ]
  },
  {
   "cell_type": "code",
   "execution_count": null,
   "id": "8ad621bc-8873-42b9-88ac-364783f80b8b",
   "metadata": {},
   "outputs": [],
   "source": [
    "'''Q5.Explain ImportError.What is ModuleNotFoundError?\n",
    "Ans.ImportError is a built-in exception in Python that is raised when an imported module, package, or name cannot be found or loaded.It typically \n",
    "occurs when the interpreter encounters an import statement that refers to a module that doesn't exist or is not accessible.\n",
    "\n",
    "ModuleNotFoundError is a subclass of ImportError that was introduced in Python 3.6.It specifically handles cases where an imported module cannot be \n",
    "found.When a module is not found, Python raises a ModuleNotFoundError'''\n"
   ]
  },
  {
   "cell_type": "code",
   "execution_count": null,
   "id": "767934ee-0f22-45c6-92d7-e36c539ce74b",
   "metadata": {},
   "outputs": [],
   "source": [
    "'''Q6.List down some best practices for exception handling in python.\n",
    "Ans:1.Be specific in exception handling: Catch only the exceptions that you expect and can handle.Avoid using broad exception handlers like except \n",
    "Exception: as it may hide unexpected errors and make debugging difficult.\n",
    "\n",
    "2.Use multiple except blocks: Use separate except blocks to handle different exceptions individually.This allows you to provide specific error messages \n",
    "or perform different actions based on the type of exception.\n",
    "\n",
    "3.Use the finally block: When necessary, use the finally block to specify cleanup code that should be executed regardless of whether an exception \n",
    "occurred or not. This is helpful for releasing resources, closing files, or cleaning up connections.\n",
    "\n",
    "4.Provide meaningful error messages: Include descriptive error messages when raising or catching exceptions.This helps in understanding the cause of \n",
    "the exception and aids in debugging.\n",
    "\n",
    "5.Avoid catching and ignoring exceptions: Unless absolutely necessary, avoid catching exceptions without taking any action.Ignoring exceptions may \n",
    "lead to silent failures and make it harder to diagnose and fix issues in the code."
   ]
  }
 ],
 "metadata": {
  "kernelspec": {
   "display_name": "Python 3 (ipykernel)",
   "language": "python",
   "name": "python3"
  },
  "language_info": {
   "codemirror_mode": {
    "name": "ipython",
    "version": 3
   },
   "file_extension": ".py",
   "mimetype": "text/x-python",
   "name": "python",
   "nbconvert_exporter": "python",
   "pygments_lexer": "ipython3",
   "version": "3.10.8"
  }
 },
 "nbformat": 4,
 "nbformat_minor": 5
}
